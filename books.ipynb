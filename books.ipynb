{
 "cells": [
  {
   "cell_type": "code",
   "execution_count": 3,
   "id": "b20f8d7a",
   "metadata": {},
   "outputs": [
    {
     "name": "stdout",
     "output_type": "stream",
     "text": [
      "Create: books.csv\n"
     ]
    }
   ],
   "source": [
    "import requests\n",
    "from bs4 import BeautifulSoup\n",
    "import csv\n",
    "\n",
    "def get_books_from_page(url):\n",
    "    headers = {\n",
    "        \"User-Agent\": \"Mozilla/5.0\"\n",
    "    }\n",
    "\n",
    "    response = requests.get(url, headers=headers)\n",
    "    response.encoding = \"utf-8\"\n",
    "\n",
    "    if response.status_code != 200:\n",
    "        raise Exception(f\"Erro ao acessar {url}\")\n",
    "\n",
    "    soup = BeautifulSoup(response.text, \"html.parser\")\n",
    "    books = []\n",
    "\n",
    "    for book in soup.find_all(\"article\", class_=\"product_pod\"):\n",
    "        title = book.find(\"h3\").find(\"a\")[\"title\"]\n",
    "        price = book.find(\"p\", class_=\"price_color\").text.strip()\n",
    "        books.append({\"title\": title, \"price\": price})\n",
    "\n",
    "    return books\n",
    "\n",
    "def save_books_to_csv(book_list, filename=\"books.csv\"):\n",
    "    with open(filename, mode=\"w\", newline=\"\", encoding=\"utf-8\") as file:\n",
    "        writer = csv.DictWriter(file, fieldnames=[\"title\", \"price\"])\n",
    "        writer.writeheader()\n",
    "        writer.writerows(book_list)\n",
    "\n",
    "def main():\n",
    "    url = \"https://books.toscrape.com/\"\n",
    "    books = get_books_from_page(url)\n",
    "    save_books_to_csv(books)\n",
    "    print(\"Create: books.csv\")\n",
    "\n",
    "if __name__ == \"__main__\":\n",
    "    main()\n"
   ]
  }
 ],
 "metadata": {
  "kernelspec": {
   "display_name": "venv",
   "language": "python",
   "name": "python3"
  },
  "language_info": {
   "codemirror_mode": {
    "name": "ipython",
    "version": 3
   },
   "file_extension": ".py",
   "mimetype": "text/x-python",
   "name": "python",
   "nbconvert_exporter": "python",
   "pygments_lexer": "ipython3",
   "version": "3.10.11"
  }
 },
 "nbformat": 4,
 "nbformat_minor": 5
}
